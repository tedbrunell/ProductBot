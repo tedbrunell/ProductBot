{
 "cells": [
  {
   "cell_type": "code",
   "execution_count": null,
   "id": "03e7957e-3064-4330-879a-2e7415d11f94",
   "metadata": {
    "tags": []
   },
   "outputs": [],
   "source": [
    "pip install --quiet -U ipywidgets langchain langchain-community langchain-core langchainhub tiktoken chromadb pypdf pysqlite3-binary sentence-transformers unstructured"
   ]
  },
  {
   "cell_type": "markdown",
   "id": "8cc89bc4-53ae-4277-91b8-43fa136208d3",
   "metadata": {},
   "source": [
    "# Set Up The Model\n",
    "In this block, we install chromadb and other dependancies.  Chroma requires sqlite3 so that is imported as well.\n",
    "\n",
    "The LLM that is used is Mistral:Instruct that is hosted by an Ollama container running in OpenShift.\n",
    "\n",
    "HuggingFace Embeddings are used since they can be run locally and can be configured to take advantage of available GPUs."
   ]
  },
  {
   "cell_type": "code",
   "execution_count": null,
   "id": "0d554fdc-e452-49e7-a6eb-74900cc66b2b",
   "metadata": {
    "tags": []
   },
   "outputs": [],
   "source": [
    "__import__('pysqlite3')\n",
    "import sys\n",
    "sys.modules['sqlite3'] = sys.modules.pop('pysqlite3')\n",
    "import chromadb\n",
    "from chromadb.utils.embedding_functions import SentenceTransformerEmbeddingFunction\n",
    "\n",
    "import bs4\n",
    "import os.path\n",
    "from langchain import hub\n",
    "from langchain_community.document_loaders import WebBaseLoader\n",
    "from langchain_community.chat_models import ChatOllama\n",
    "from langchain_community.vectorstores import Chroma\n",
    "from langchain_community.document_loaders import PyPDFLoader\n",
    "from langchain_community.embeddings import HuggingFaceEmbeddings\n",
    "from langchain_core.documents import Document\n",
    "from langchain_core.output_parsers import StrOutputParser\n",
    "from langchain_core.prompts import PromptTemplate\n",
    "from langchain_core.runnables import RunnableLambda, RunnablePassthrough, RunnableParallel\n",
    "from langchain_core.prompts import ChatPromptTemplate\n",
    "from langchain.document_loaders import UnstructuredPDFLoader\n",
    "from langchain.utils.math import cosine_similarity\n",
    "from langchain_text_splitters import RecursiveCharacterTextSplitter, SentenceTransformersTokenTextSplitter\n",
    "from pypdf import PdfReader\n",
    "from sentence_transformers import SentenceTransformer\n",
    "from typing import List\n",
    "from IPython.display import display, Markdown\n",
    "\n",
    "model = ChatOllama(model=\"mistral:instruct\",\n",
    "                   base_url=\"http://ollama-api-service.ollama-llm.svc.cluster.local:11434\",\n",
    "                   temperature = 0)"
   ]
  },
  {
   "cell_type": "markdown",
   "id": "c04b2832-fa2f-44b0-8b9e-345eca336fff",
   "metadata": {},
   "source": [
    "# Gather Data, Chunk it and Store it in the vector store\n",
    "\n",
    "If the database is not present, then create it by downloading and chunking the files.  If it is present, then just load it."
   ]
  },
  {
   "cell_type": "code",
   "execution_count": null,
   "id": "dc6480fa-8f89-44c9-b79b-9b6ac07379c2",
   "metadata": {
    "tags": []
   },
   "outputs": [],
   "source": [
    "embeddings = HuggingFaceEmbeddings(model_name=\"all-MiniLM-L6-v2\",model_kwargs={'device': 'cuda'})\n",
    "embedding_function = SentenceTransformerEmbeddingFunction()"
   ]
  },
  {
   "cell_type": "code",
   "execution_count": null,
   "id": "37a3fd5d-9e79-4e0b-add7-ce15826dde03",
   "metadata": {
    "tags": []
   },
   "outputs": [],
   "source": [
    "persist_dir = \"db_rhel\"\n",
    "\n",
    "check_file = \"False\"\n",
    "\n",
    "path = 'db_rhel/chroma.sqlite3'\n",
    "\n",
    "check_file = os.path.isfile(path)\n",
    "\n",
    "if check_file is False:\n",
    "    urls = [\n",
    "        'https://access.redhat.com/documentation/en-us/red_hat_enterprise_linux/9/pdf/performing_a_standard_rhel_9_installation/red_hat_enterprise_linux-9-performing_a_standard_rhel_9_installation-en-us.pdf',\n",
    "        'https://access.redhat.com/documentation/en-us/red_hat_enterprise_linux/9/pdf/performing_an_advanced_rhel_9_installation/red_hat_enterprise_linux-9-performing_an_advanced_rhel_9_installation-en-us.pdf',\n",
    "        'https://access.redhat.com/documentation/en-us/red_hat_enterprise_linux/9/pdf/configuring_basic_system_settings/red_hat_enterprise_linux-9-configuring_basic_system_settings-en-us.pdf',\n",
    "        'https://access.redhat.com/documentation/en-us/red_hat_enterprise_linux/9/pdf/security_hardening/red_hat_enterprise_linux-9-security_hardening-en-us.pdf',\n",
    "        'https://access.redhat.com/documentation/en-us/red_hat_enterprise_linux/9/pdf/composing_a_customized_rhel_system_image/red_hat_enterprise_linux-9-composing_a_customized_rhel_system_image-en-us.pdf',\n",
    "        'https://access.redhat.com/documentation/en-us/red_hat_enterprise_linux/9/pdf/configuring_and_managing_networking/red_hat_enterprise_linux-9-configuring_and_managing_networking-en-us.pdf',\n",
    "        'https://access.redhat.com/documentation/en-us/red_hat_enterprise_linux/9/pdf/upgrading_from_rhel_8_to_rhel_9/red_hat_enterprise_linux-9-upgrading_from_rhel_8_to_rhel_9-en-us.pdf',\n",
    "        'https://www.redhat.com/rhdc/managed-files/li-linux-rhel-subscription-guide-detail-639715pr-202312-en_0.pdf'\n",
    "    ]\n",
    "    \n",
    "    pages = []\n",
    "    \n",
    "    for file in urls:\n",
    "        loader = PyPDFLoader(file, extract_images=False)\n",
    "        pages = pages + loader.load()\n",
    "        \n",
    "    text_splitter = RecursiveCharacterTextSplitter(separators=[\"\\n\\n\", \"\\n\", \". \", \" \", \"\"], chunk_size=1275, chunk_overlap=0)\n",
    "    \n",
    "    splits = text_splitter.split_documents(pages)\n",
    "    \n",
    "    vectorstore = Chroma.from_documents(documents=splits, embedding=embeddings, persist_directory=persist_dir)"
   ]
  },
  {
   "cell_type": "code",
   "execution_count": null,
   "id": "f2abff8f-72eb-4dd7-b995-83f441666e56",
   "metadata": {
    "tags": []
   },
   "outputs": [],
   "source": [
    "persist_dir = \"db_aap\"\n",
    "\n",
    "check_file = \"False\"\n",
    "\n",
    "path = 'db_aap/chroma.sqlite3'\n",
    "\n",
    "check_file = os.path.isfile(path)\n",
    "\n",
    "if check_file is False:\n",
    "    urls = [\n",
    "        'https://access.redhat.com/documentation/en-us/red_hat_ansible_automation_platform/2.4/pdf/containerized_ansible_automation_platform_installation_guide/red_hat_ansible_automation_platform-2.4-containerized_ansible_automation_platform_installation_guide-en-us.pdf',\n",
    "        'https://access.redhat.com/documentation/en-us/red_hat_ansible_automation_platform/2.4/pdf/red_hat_ansible_automation_platform_installation_guide/red_hat_ansible_automation_platform-2.4-red_hat_ansible_automation_platform_installation_guide-en-us.pdf',\n",
    "        'https://access.redhat.com/documentation/en-us/red_hat_ansible_automation_platform/2.4/pdf/red_hat_ansible_automation_platform_operations_guide/red_hat_ansible_automation_platform-2.4-red_hat_ansible_automation_platform_operations_guide-en-us.pdf',\n",
    "        'https://access.redhat.com/documentation/en-us/red_hat_ansible_automation_platform/2.4/pdf/automation_controller_user_guide/red_hat_ansible_automation_platform-2.4-automation_controller_user_guide-en-us.pdf',\n",
    "        'https://access.redhat.com/documentation/en-us/red_hat_ansible_automation_platform/2.4/pdf/getting_started_with_ansible_playbooks/red_hat_ansible_automation_platform-2.4-getting_started_with_ansible_playbooks-en-us.pdf',\n",
    "        'https://access.redhat.com/documentation/en-us/red_hat_ansible_automation_platform/2.4/pdf/deploying_the_red_hat_ansible_automation_platform_operator_on_openshift_container_platform/red_hat_ansible_automation_platform-2.4-deploying_the_red_hat_ansible_automation_platform_operator_on_openshift_container_platform-en-us.pdf'\n",
    "    ]\n",
    "\n",
    "    pages = []\n",
    "    \n",
    "    for file in urls:\n",
    "        loader = PyPDFLoader(file, extract_images=False)\n",
    "        pages = pages + loader.load()\n",
    "        \n",
    "    text_splitter = RecursiveCharacterTextSplitter(separators=[\"\\n\\n\", \"\\n\", \". \", \" \", \"\"], chunk_size=1700, chunk_overlap=0)\n",
    "    \n",
    "    splits = text_splitter.split_documents(pages)\n",
    "    \n",
    "    vectorstore = Chroma.from_documents(documents=splits, embedding=embeddings, persist_directory=persist_dir)"
   ]
  },
  {
   "cell_type": "code",
   "execution_count": null,
   "id": "bf2373b3-14fe-4f55-9fea-c072d9b9e4aa",
   "metadata": {
    "tags": []
   },
   "outputs": [],
   "source": [
    "persist_dir = \"db_ocp\"\n",
    "\n",
    "check_file = \"False\"\n",
    "\n",
    "path = 'db_ocp/chroma.sqlite3'\n",
    "\n",
    "check_file = os.path.isfile(path)\n",
    "\n",
    "if check_file is False:\n",
    "    urls = [\n",
    "        'https://access.redhat.com/documentation/en-us/openshift_container_platform/4.15/pdf/building_applications/openshift_container_platform-4.15-building_applications-en-us.pdf',\n",
    "        'https://access.redhat.com/documentation/en-us/assisted_installer_for_openshift_container_platform/2024/pdf/installing_openshift_container_platform_with_the_assisted_installer/assisted_installer_for_openshift_container_platform-2024-installing_openshift_container_platform_with_the_assisted_installer-en-us.pdf',\n",
    "        'https://access.redhat.com/documentation/en-us/openshift_container_platform/4.15/pdf/storage/openshift_container_platform-4.15-storage-en-us.pdf',\n",
    "        'https://access.redhat.com/documentation/en-us/openshift_container_platform/4.15/pdf/cli_tools/openshift_container_platform-4.15-cli_tools-en-us.pdf',\n",
    "        'https://access.redhat.com/documentation/en-us/openshift_container_platform/4.15/pdf/virtualization/openshift_container_platform-4.15-virtualization-en-us.pdf',\n",
    "        'https://access.redhat.com/documentation/en-us/openshift_container_platform/4.15/pdf/windows_container_support_for_openshift/openshift_container_platform-4.15-windows_container_support_for_openshift-en-us.pdf'\n",
    "    ]\n",
    "\n",
    "    pages = []\n",
    "    \n",
    "    for file in urls:\n",
    "        loader = PyPDFLoader(file, extract_images=False)\n",
    "        pages = pages + loader.load()\n",
    "        \n",
    "    text_splitter = RecursiveCharacterTextSplitter(separators=[\"\\n\\n\", \"\\n\", \". \", \" \", \"\"], chunk_size=675, chunk_overlap=0)\n",
    "    \n",
    "    splits = text_splitter.split_documents(pages)\n",
    "    \n",
    "    vectorstore = Chroma.from_documents(documents=splits, embedding=embeddings, persist_directory=persist_dir)"
   ]
  },
  {
   "cell_type": "markdown",
   "id": "7c71b422-fc16-4834-b795-ecf4c08f4253",
   "metadata": {},
   "source": [
    "# Set up the prompts"
   ]
  },
  {
   "cell_type": "code",
   "execution_count": null,
   "id": "e2c11840-b8ee-44bc-ad4e-73f84150a107",
   "metadata": {
    "tags": []
   },
   "outputs": [],
   "source": [
    "# Set up the prompts\n",
    "\n",
    "rhel_template = \"\"\"You are an expert in Red Hat Enterprise Linux (RHEL). \\\n",
    "You can only use the supplied source docs. \\\n",
    "When you don't know the answer to a question just admit that you don't know. \\\n",
    "If the question is not related to RHEL answer that the questions is not relevant.\n",
    "Always include a \"SOURCES\" part in your answer with link to the source_docs.\n",
    "\n",
    "QUESTION: {question}\n",
    "=========\n",
    "{source_docs}\n",
    "=========\n",
    "ANSWER: \"\"\"\n",
    "\n",
    "ansible_template = \"\"\"You are knowledgeable about Ansible Automation Platform (AAP) and the Ansible Automation Platform Operator on OpenShift (OCP). \\\n",
    "You can only use the supplied source docs. \\\n",
    "When you don't know the answer to a question just admit that you don't know.\n",
    "If the question is not related to Ansible answer that the questions is not relevant.\n",
    "Always include a \"SOURCES\" part in your answer.\n",
    "\n",
    "QUESTION: {question}\n",
    "=========\n",
    "{source_docs}\n",
    "=========\n",
    "ANSWER: \"\"\"\n",
    "\n",
    "openshift_template = \"\"\"You are knowledgeable about OpenShift Container Platform (OCP) and it's CLI tool oc. \\\n",
    "You can only use the supplied source docs. \\\n",
    "When you don't know the answer to a question just admit that you don't know.\n",
    "If the question is not related to OpenShift answer that the questions is not relevant.\n",
    "Always include a \"SOURCES\" part in your answer.\n",
    "\n",
    "QUESTION: {question}\n",
    "=========\n",
    "{source_docs}\n",
    "=========\n",
    "ANSWER: \"\"\"\n",
    "\n",
    "rag_prompt = ChatPromptTemplate.from_template(rhel_template)\n",
    "\n",
    "prompt_templates = [rhel_template, ansible_template, openshift_template]\n",
    "prompt_embeddings = embeddings.embed_documents(prompt_templates)"
   ]
  },
  {
   "cell_type": "markdown",
   "id": "5cb14391-a5be-47cf-a085-7e9f9d6196e9",
   "metadata": {
    "tags": []
   },
   "source": [
    "# Run the RAG"
   ]
  },
  {
   "cell_type": "code",
   "execution_count": null,
   "id": "5ed385ad-72ab-4351-b97c-b42ce0b06547",
   "metadata": {
    "tags": []
   },
   "outputs": [],
   "source": [
    "# the prompt_router function detemines which product the question is most likely about\n",
    "# and returns the name of the product\n",
    "\n",
    "def prompt_router(input):\n",
    "    query_embedding = embeddings.embed_query(input[\"question\"])\n",
    "    similarity = cosine_similarity([query_embedding], prompt_embeddings)[0]\n",
    "    most_similar = prompt_templates[similarity.argmax()]\n",
    "    \n",
    "    if most_similar == rhel_template:\n",
    "        product = \"rhel\"\n",
    "    elif most_similar == ansible_template:\n",
    "        product = \"aap\"        \n",
    "    elif most_similar == openshift_template:\n",
    "        product = \"ocp\" \n",
    "    \n",
    "    return product\n",
    "\n",
    "# Format the source docs forthe LLM\n",
    "def format_docs(docs: List[Document]) -> str:\n",
    "    return \"\\n\\n\".join(f\"Content: {doc.page_content}\\nSource: {doc.metadata['source']}\" for doc in docs)\n",
    "\n",
    "\n",
    "# The router_chain calls the prompt-router function t determine the topic of the question.\n",
    "router_chain = (\n",
    "    {\"question\": RunnablePassthrough()}\n",
    "    | RunnableLambda(prompt_router)\n",
    ")\n",
    "\n",
    "# Process the source_docs to generate the answer\n",
    "rag_chain_from_docs = (\n",
    "    RunnablePassthrough.assign(\n",
    "        source_docs=(lambda x: format_docs(x[\"source_docs\"]))\n",
    "    )\n",
    "    | rag_prompt\n",
    "    | model\n",
    "    | StrOutputParser()\n",
    ")\n",
    "\n",
    "# Retrieve source docs and invoke the last chain.\n",
    "rag_chain = RunnableParallel(\n",
    "    {\n",
    "        \"source_docs\": lambda x: retriever,\n",
    "        \"question\": RunnablePassthrough()\n",
    "    }\n",
    ").assign(answer=rag_chain_from_docs)\n",
    "\n",
    "# Main loop - get the question, figures out the topic, routes to the right db and \n",
    "# then works to generate the answer.\n",
    "\n",
    "question = \"How many VM entitlements are included in a single RHEL subscription?\"\n",
    "\n",
    "product = (router_chain.invoke(question))\n",
    "\n",
    "if product == \"rhel\":\n",
    "    rag_prompt = ChatPromptTemplate.from_template(rhel_template)\n",
    "    vectorstore = Chroma(persist_directory=\"db_rhel\", embedding_function=embeddings)\n",
    "    retriever = vectorstore.as_retriever()\n",
    "elif product == \"aap\":\n",
    "    rag_prompt = ChatPromptTemplate.from_template(ansible_template)\n",
    "    vectorstore = Chroma(persist_directory=\"db_aap\", embedding_function=embeddings)\n",
    "    retriever = vectorstore.as_retriever()\n",
    "elif product == \"ocp\":\n",
    "    rag_prompt = ChatPromptTemplate.from_template(openshift_template)\n",
    "    vectorstore = Chroma(persist_directory=\"db_ocp\", embedding_function=embeddings)\n",
    "    retriever = vectorstore.as_retriever()\n",
    "\n",
    "results = (rag_chain.invoke(question))\n",
    "\n",
    "answer = results[\"answer\"]\n",
    "display(Markdown(answer))"
   ]
  },
  {
   "cell_type": "code",
   "execution_count": null,
   "id": "456f4fc5-687d-4d1a-9e04-04118abb0231",
   "metadata": {},
   "outputs": [],
   "source": []
  }
 ],
 "metadata": {
  "kernelspec": {
   "display_name": "Python 3.9",
   "language": "python",
   "name": "python3"
  },
  "language_info": {
   "codemirror_mode": {
    "name": "ipython",
    "version": 3
   },
   "file_extension": ".py",
   "mimetype": "text/x-python",
   "name": "python",
   "nbconvert_exporter": "python",
   "pygments_lexer": "ipython3",
   "version": "3.9.18"
  }
 },
 "nbformat": 4,
 "nbformat_minor": 5
}
