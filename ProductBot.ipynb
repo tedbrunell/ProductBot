{
 "cells": [
  {
   "cell_type": "code",
   "execution_count": null,
   "id": "03e7957e-3064-4330-879a-2e7415d11f94",
   "metadata": {
    "tags": []
   },
   "outputs": [],
   "source": [
    "pip install --quiet -U ipywidgets langchain langchain-community langchain-core chromadb pypdf pysqlite3-binary sentence-transformers "
   ]
  },
  {
   "cell_type": "markdown",
   "id": "8cc89bc4-53ae-4277-91b8-43fa136208d3",
   "metadata": {},
   "source": [
    "# Set Up The Model\n",
    "In this block, we install chromadb and other dependancies.  Chroma requires sqlite3 so that is imported as well.\n",
    "\n",
    "The LLM that is used is Mistral:Instruct that is hosted by an Ollama container running in OpenShift.\n",
    "\n",
    "HuggingFace Embeddings are used since they can be run locally and can be configured to take advantage of available GPUs."
   ]
  },
  {
   "cell_type": "code",
   "execution_count": null,
   "id": "0d554fdc-e452-49e7-a6eb-74900cc66b2b",
   "metadata": {
    "tags": []
   },
   "outputs": [],
   "source": [
    "__import__('pysqlite3')\n",
    "import sys\n",
    "sys.modules['sqlite3'] = sys.modules.pop('pysqlite3')\n",
    "import chromadb\n",
    "from chromadb.utils.embedding_functions import SentenceTransformerEmbeddingFunction\n",
    "\n",
    "import bs4\n",
    "import os.path\n",
    "from langchain import hub\n",
    "from langchain_community.document_loaders import WebBaseLoader\n",
    "from langchain_community.chat_models import ChatOllama\n",
    "from langchain_community.vectorstores import Chroma\n",
    "from langchain_community.document_loaders import PyPDFLoader\n",
    "from langchain_community.embeddings import HuggingFaceEmbeddings\n",
    "from langchain_core.documents import Document\n",
    "from langchain_core.output_parsers import StrOutputParser\n",
    "from langchain_core.prompts import PromptTemplate\n",
    "from langchain_core.runnables import RunnableLambda, RunnablePassthrough, RunnableParallel\n",
    "from langchain_core.prompts import ChatPromptTemplate\n",
    "from langchain.utils.math import cosine_similarity\n",
    "from langchain_text_splitters import RecursiveCharacterTextSplitter, SentenceTransformersTokenTextSplitter\n",
    "from pypdf import PdfReader\n",
    "from sentence_transformers import SentenceTransformer\n",
    "from typing import List\n",
    "from IPython.display import display, Markdown\n",
    "\n",
    "model = ChatOllama(model=\"mistral:instruct\",\n",
    "                   base_url=\"http://ollama-api-service.ollama-llm.svc.cluster.local:11434\",\n",
    "                   temperature = 0,\n",
    "                   streaming=True  # ! important\n",
    "                   )"
   ]
  },
  {
   "cell_type": "markdown",
   "id": "c04b2832-fa2f-44b0-8b9e-345eca336fff",
   "metadata": {},
   "source": [
    "# Gather Data, Chunk it and Store it in the vector store\n",
    "\n",
    "If the database is not present, then create it by downloading and chunking the files.  If it is present, then just load it."
   ]
  },
  {
   "cell_type": "code",
   "execution_count": null,
   "id": "dc6480fa-8f89-44c9-b79b-9b6ac07379c2",
   "metadata": {
    "tags": []
   },
   "outputs": [],
   "source": [
    "embeddings = HuggingFaceEmbeddings(model_name=\"all-MiniLM-L6-v2\",model_kwargs={'device': 'cuda'})\n",
    "embedding_function = SentenceTransformerEmbeddingFunction()"
   ]
  },
  {
   "cell_type": "code",
   "execution_count": null,
   "id": "37a3fd5d-9e79-4e0b-add7-ce15826dde03",
   "metadata": {
    "tags": []
   },
   "outputs": [],
   "source": [
    "persist_dir = \"db_rhel\"\n",
    "\n",
    "check_file = \"False\"\n",
    "\n",
    "path = 'db_rhel/chroma.sqlite3'\n",
    "\n",
    "check_file = os.path.isfile(path)\n",
    "\n",
    "if check_file is False:\n",
    "    urls = [\n",
    "        'https://access.redhat.com/documentation/en-us/red_hat_enterprise_linux/9/pdf/performing_a_standard_rhel_9_installation/red_hat_enterprise_linux-9-performing_a_standard_rhel_9_installation-en-us.pdf',\n",
    "        'https://access.redhat.com/documentation/en-us/red_hat_enterprise_linux/9/pdf/performing_an_advanced_rhel_9_installation/red_hat_enterprise_linux-9-performing_an_advanced_rhel_9_installation-en-us.pdf',\n",
    "        'https://access.redhat.com/documentation/en-us/red_hat_enterprise_linux/9/pdf/configuring_basic_system_settings/red_hat_enterprise_linux-9-configuring_basic_system_settings-en-us.pdf',\n",
    "        'https://access.redhat.com/documentation/en-us/red_hat_enterprise_linux/9/pdf/security_hardening/red_hat_enterprise_linux-9-security_hardening-en-us.pdf',\n",
    "        'https://access.redhat.com/documentation/en-us/red_hat_enterprise_linux/9/pdf/composing_a_customized_rhel_system_image/red_hat_enterprise_linux-9-composing_a_customized_rhel_system_image-en-us.pdf',\n",
    "        'https://access.redhat.com/documentation/en-us/red_hat_enterprise_linux/9/pdf/configuring_and_managing_networking/red_hat_enterprise_linux-9-configuring_and_managing_networking-en-us.pdf',\n",
    "        'https://access.redhat.com/documentation/en-us/red_hat_enterprise_linux/9/pdf/upgrading_from_rhel_8_to_rhel_9/red_hat_enterprise_linux-9-upgrading_from_rhel_8_to_rhel_9-en-us.pdf',\n",
    "        'https://www.redhat.com/rhdc/managed-files/li-linux-rhel-subscription-guide-detail-639715pr-202312-en_0.pdf'\n",
    "    ]\n",
    "    \n",
    "    pages = []\n",
    "    \n",
    "    for file in urls:\n",
    "        loader = PyPDFLoader(file, extract_images=False)\n",
    "        pages = pages + loader.load()\n",
    "        \n",
    "    text_splitter = RecursiveCharacterTextSplitter(separators=[\"\\n\\n\", \"\\n\", \". \", \" \", \"\"], chunk_size=1275, chunk_overlap=0)\n",
    "    \n",
    "    splits = text_splitter.split_documents(pages)\n",
    "    \n",
    "    vectorstore = Chroma.from_documents(documents=splits, embedding=embeddings, persist_directory=persist_dir)"
   ]
  },
  {
   "cell_type": "code",
   "execution_count": null,
   "id": "f2abff8f-72eb-4dd7-b995-83f441666e56",
   "metadata": {
    "tags": []
   },
   "outputs": [],
   "source": [
    "persist_dir = \"db_ansible\"\n",
    "\n",
    "check_file = \"False\"\n",
    "\n",
    "path = 'db_ansible/chroma.sqlite3'\n",
    "\n",
    "check_file = os.path.isfile(path)\n",
    "\n",
    "if check_file is False:\n",
    "    urls = [\n",
    "        'https://access.redhat.com/documentation/en-us/red_hat_ansible_automation_platform/2.4/pdf/containerized_ansible_automation_platform_installation_guide/red_hat_ansible_automation_platform-2.4-containerized_ansible_automation_platform_installation_guide-en-us.pdf',\n",
    "        'https://access.redhat.com/documentation/en-us/red_hat_ansible_automation_platform/2.4/pdf/red_hat_ansible_automation_platform_installation_guide/red_hat_ansible_automation_platform-2.4-red_hat_ansible_automation_platform_installation_guide-en-us.pdf',\n",
    "        'https://access.redhat.com/documentation/en-us/red_hat_ansible_automation_platform/2.4/pdf/red_hat_ansible_automation_platform_operations_guide/red_hat_ansible_automation_platform-2.4-red_hat_ansible_automation_platform_operations_guide-en-us.pdf',\n",
    "        'https://access.redhat.com/documentation/en-us/red_hat_ansible_automation_platform/2.4/pdf/automation_controller_user_guide/red_hat_ansible_automation_platform-2.4-automation_controller_user_guide-en-us.pdf',\n",
    "        'https://access.redhat.com/documentation/en-us/red_hat_ansible_automation_platform/2.4/pdf/getting_started_with_ansible_playbooks/red_hat_ansible_automation_platform-2.4-getting_started_with_ansible_playbooks-en-us.pdf',\n",
    "        'https://access.redhat.com/documentation/en-us/red_hat_ansible_automation_platform/2.4/pdf/deploying_the_red_hat_ansible_automation_platform_operator_on_openshift_container_platform/red_hat_ansible_automation_platform-2.4-deploying_the_red_hat_ansible_automation_platform_operator_on_openshift_container_platform-en-us.pdf'\n",
    "    ]\n",
    "\n",
    "    pages = []\n",
    "    \n",
    "    for file in urls:\n",
    "        loader = PyPDFLoader(file, extract_images=False)\n",
    "        pages = pages + loader.load()\n",
    "        \n",
    "    text_splitter = RecursiveCharacterTextSplitter(separators=[\"\\n\\n\", \"\\n\", \". \", \" \", \"\"], chunk_size=1700, chunk_overlap=0)\n",
    "    \n",
    "    splits = text_splitter.split_documents(pages)\n",
    "    \n",
    "    vectorstore = Chroma.from_documents(documents=splits, embedding=embeddings, persist_directory=persist_dir)"
   ]
  },
  {
   "cell_type": "code",
   "execution_count": null,
   "id": "bf2373b3-14fe-4f55-9fea-c072d9b9e4aa",
   "metadata": {
    "tags": []
   },
   "outputs": [],
   "source": [
    "persist_dir = \"db_openshift\"\n",
    "\n",
    "check_file = \"False\"\n",
    "\n",
    "path = 'db_openshift/chroma.sqlite3'\n",
    "\n",
    "check_file = os.path.isfile(path)\n",
    "\n",
    "if check_file is False:\n",
    "    urls = [\n",
    "        'https://access.redhat.com/documentation/en-us/openshift_container_platform/4.15/pdf/building_applications/openshift_container_platform-4.15-building_applications-en-us.pdf',\n",
    "        'https://access.redhat.com/documentation/en-us/assisted_installer_for_openshift_container_platform/2024/pdf/installing_openshift_container_platform_with_the_assisted_installer/assisted_installer_for_openshift_container_platform-2024-installing_openshift_container_platform_with_the_assisted_installer-en-us.pdf',\n",
    "        'https://access.redhat.com/documentation/en-us/openshift_container_platform/4.15/pdf/storage/openshift_container_platform-4.15-storage-en-us.pdf',\n",
    "        'https://access.redhat.com/documentation/en-us/openshift_container_platform/4.15/pdf/cli_tools/openshift_container_platform-4.15-cli_tools-en-us.pdf',\n",
    "        'https://access.redhat.com/documentation/en-us/openshift_container_platform/4.15/pdf/virtualization/openshift_container_platform-4.15-virtualization-en-us.pdf',\n",
    "        'https://access.redhat.com/documentation/en-us/openshift_container_platform/4.15/pdf/windows_container_support_for_openshift/openshift_container_platform-4.15-windows_container_support_for_openshift-en-us.pdf'\n",
    "    ]\n",
    "\n",
    "    pages = []\n",
    "    \n",
    "    for file in urls:\n",
    "        loader = PyPDFLoader(file, extract_images=False)\n",
    "        pages = pages + loader.load()\n",
    "        \n",
    "    text_splitter = RecursiveCharacterTextSplitter(separators=[\"\\n\\n\", \"\\n\", \". \", \" \", \"\"], chunk_size=675, chunk_overlap=0)\n",
    "    \n",
    "    splits = text_splitter.split_documents(pages)\n",
    "    \n",
    "    vectorstore = Chroma.from_documents(documents=splits, embedding=embeddings, persist_directory=persist_dir)"
   ]
  },
  {
   "cell_type": "markdown",
   "id": "7c71b422-fc16-4834-b795-ecf4c08f4253",
   "metadata": {},
   "source": [
    "# Set up the prompts"
   ]
  },
  {
   "cell_type": "code",
   "execution_count": null,
   "id": "e2c11840-b8ee-44bc-ad4e-73f84150a107",
   "metadata": {
    "tags": []
   },
   "outputs": [],
   "source": [
    "# Set up the prompts\n",
    "\n",
    "rhel_template = \"\"\"You are an expert in Red Hat Enterprise Linux (RHEL) who retrieves information from documents.\\n\n",
    "When you don't know the answer say that you don't know.\\n\n",
    "Always include a list of \"SOURCES\" part in your answer with a link to the source document.\\n\n",
    "\n",
    "QUESTION: {question}\n",
    "=========\n",
    "{source_docs}\n",
    "=========\n",
    "ANSWER: \"\"\"\n",
    "\n",
    "ansible_template = \"\"\"You are an expert in Ansible Automation Platform (AAP) who retieves information from documents.\\n\n",
    "When you don't know the answer say that you don't know.\\n\n",
    "Always include a list of \"SOURCES\" part in your answer with a link to the source document.\\n\n",
    "\n",
    "QUESTION: {question}\n",
    "=========\n",
    "{source_docs}\n",
    "=========\n",
    "ANSWER: \"\"\"\n",
    "\n",
    "openshift_template = \"\"\"You are an expert in OpenShift Container Platform (OCP), and it's CLI tool oc.\\n\n",
    "You retrieve information from documents.\\n\n",
    "When you don't know the answer say that you don't know.\\n\n",
    "Always include a list of \"SOURCES\" part in your answer with a link to the source document.\\n\n",
    "\n",
    "QUESTION: {question}\n",
    "=========\n",
    "{source_docs}\n",
    "=========\n",
    "ANSWER: \"\"\"\n",
    "\n",
    "other_template = \"\"\"You are an expert in general knowledge.\\n\n",
    "Do not answer the question.\\n\n",
    "Ask how the questions is related a Red Hat product.\\n\n",
    "\"\"\"\n",
    "\n",
    "prompt_templates = [rhel_template, ansible_template, openshift_template, other_template]\n",
    "prompt_embeddings = embeddings.embed_documents(prompt_templates)\n",
    "\n",
    "# these lists are used to \n",
    "rhel_topics = \"\"\"Red Hat Enterprise Linux, RHEL\"\"\"\n",
    "ansible_topics = \"\"\"Ansible Automation Platform, AAP\"\"\"\n",
    "openshift_topics = \"\"\"OpenShift Container Platform, OCP, oc, vrtctl\"\"\"\n",
    "other_topics = \"\"\"everything else, satellites, food, fictional characters\"\"\"\n",
    "\n",
    "topic_templates = [rhel_topics, ansible_topics, openshift_topics, other_topics]\n",
    "topic_embeddings = embeddings.embed_documents(topic_templates)\n",
    "\n",
    "# Set up some defauls\n",
    "rag_prompt = ChatPromptTemplate.from_template(ansible_template)"
   ]
  },
  {
   "cell_type": "markdown",
   "id": "5cb14391-a5be-47cf-a085-7e9f9d6196e9",
   "metadata": {
    "tags": []
   },
   "source": [
    "# Define the RAG Chains as functions."
   ]
  },
  {
   "cell_type": "code",
   "execution_count": null,
   "id": "eff6e16e-db36-4fe0-b424-abb5748cac5a",
   "metadata": {
    "tags": []
   },
   "outputs": [],
   "source": [
    "# the prompt_router function detemines which product the question is most likely about\n",
    "# and returns the name of the product\n",
    "\n",
    "def prompt_router(input):\n",
    "    query_embedding = embeddings.embed_query(input[\"question\"])\n",
    "    \n",
    "    similarity = cosine_similarity([query_embedding], topic_embeddings)[0]\n",
    "    # enable this line if you want to observe similarity scoring\n",
    "    # print(\"===== Similarity:   (RHEL       Ansible    OpenShift   Other)\\n          Scores: \",similarity,\"\\n\")\n",
    "    most_similar = prompt_templates[similarity.argmax()]\n",
    "    \n",
    "    if most_similar == rhel_template:\n",
    "        return \"rhel\"\n",
    "    elif most_similar == ansible_template:\n",
    "        return  \"ansible\"\n",
    "    elif most_similar == openshift_template:\n",
    "        return \"openshift\"\n",
    "    elif most_similar == other_template:\n",
    "        return \"other\"\n",
    "\n",
    "# Format the source docs forthe LLM\n",
    "def format_docs(docs: List[Document]) -> str:\n",
    "    return \"\\n\\n\".join(f\"Content: {doc.page_content}\\nSource: {doc.metadata['source']}\" for doc in docs)\n",
    "\n",
    "# Chains\n",
    "\n",
    "# Process the source_docs to generate the answer\n",
    "def rag_chain_fn(question):\n",
    "    rag_from_docs_chain = (\n",
    "        RunnablePassthrough.assign(\n",
    "            source_docs=(lambda x: format_docs(x[\"source_docs\"]))\n",
    "        )\n",
    "        | rag_prompt\n",
    "        | model\n",
    "        | StrOutputParser()\n",
    "    )\n",
    "    \n",
    "    # Retrieve source docs and invoke the last chain.\n",
    "    rag_chain = (RunnableParallel(\n",
    "        {\n",
    "            \"source_docs\": lambda x: retriever,\n",
    "            \"question\": RunnablePassthrough()\n",
    "        }\n",
    "    ).assign(answer=rag_from_docs_chain))\n",
    "    \n",
    "    # Stream the output\n",
    "    curr_key = None\n",
    "    for chunk in rag_chain.stream(question):\n",
    "        for key in chunk:\n",
    "            if key == \"answer\":\n",
    "                print(chunk[key], end=\"\", flush=True)\n",
    "    \n",
    "    # Uncomment this line (and remove the streaming section) to return to normal output.\n",
    "    #return (rag_chain.invoke(question))\n",
    "\n",
    "\n",
    "# The router_chain calls the prompt-router function to determine the topic of the question.\n",
    "def router_chain_fn(question):\n",
    "    \n",
    "    router_chain = (\n",
    "        {\"question\": RunnablePassthrough()}\n",
    "        | RunnableLambda(prompt_router)\n",
    "    )\n",
    "    \n",
    "    return (router_chain.invoke(question))"
   ]
  },
  {
   "cell_type": "markdown",
   "id": "7ed65899-b871-484e-aed9-2ac3e4e0c7fa",
   "metadata": {},
   "source": [
    "# Main Loop\n",
    "Here we get the question, set up some variables and route to the correct function to obtain results."
   ]
  },
  {
   "cell_type": "code",
   "execution_count": null,
   "id": "5bd6cb08-32b2-4f26-a592-5b1aace1dbee",
   "metadata": {
    "tags": []
   },
   "outputs": [],
   "source": [
    "# Main loop - get the question, figures out the topic, routes to the right db and \n",
    "# then works to generate the answer.\n",
    "\n",
    "question = \"What command creates a new user in OpenShift?\"\n",
    "\n",
    "product = router_chain_fn(question)\n",
    "\n",
    "db_name = \"db_\" + product\n",
    "\n",
    "template = eval(product + \"_template\")\n",
    "\n",
    "rag_prompt = ChatPromptTemplate.from_template(template)\n",
    "vectorstore = Chroma(persist_directory=db_name, embedding_function=embeddings)\n",
    "retriever = vectorstore.as_retriever()\n",
    "\n",
    "results = rag_chain_fn(question)\n",
    "\n",
    "# Uncomment the below lines to revert to normal output.\n",
    "# answer = results[\"answer\"]\n",
    "    \n",
    "# display(Markdown(answer))"
   ]
  },
  {
   "cell_type": "code",
   "execution_count": null,
   "id": "c9e8f726-5b65-4ec6-a45e-53dd0b2675a4",
   "metadata": {},
   "outputs": [],
   "source": []
  }
 ],
 "metadata": {
  "kernelspec": {
   "display_name": "Python 3.9",
   "language": "python",
   "name": "python3"
  },
  "language_info": {
   "codemirror_mode": {
    "name": "ipython",
    "version": 3
   },
   "file_extension": ".py",
   "mimetype": "text/x-python",
   "name": "python",
   "nbconvert_exporter": "python",
   "pygments_lexer": "ipython3",
   "version": "3.9.18"
  }
 },
 "nbformat": 4,
 "nbformat_minor": 5
}
